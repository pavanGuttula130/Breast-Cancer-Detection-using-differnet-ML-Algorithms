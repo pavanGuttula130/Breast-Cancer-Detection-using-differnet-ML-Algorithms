{
 "cells": [
  {
   "cell_type": "code",
   "execution_count": 1,
   "metadata": {},
   "outputs": [],
   "source": [
    "# Data wrangling \n",
    "import pandas as pd \n",
    "\n",
    "# Array math\n",
    "import numpy as np \n",
    "\n",
    "# Ploting \n",
    "import seaborn as sns\n",
    "import matplotlib.pyplot as plt\n",
    "\n",
    "# List iteration tracking\n",
    "from tqdm import tqdm\n",
    "\n",
    "# Importing the custom written class \n",
    "from DecisionTree import Node \n",
    "\n",
    "# Importing the custom regression tree \n",
    "from RegressionDecisionTree import NodeRegression\n",
    "\n",
    "# Importing the scikit-learn tree implementation\n",
    "from sklearn.tree import DecisionTreeClassifier, export_text , DecisionTreeRegressor\n",
    "from sklearn.metrics import accuracy_score\n",
    "from sklearn.preprocessing import LabelEncoder\n",
    "from sklearn.model_selection import train_test_split\n",
    "from sklearn.feature_selection import mutual_info_classif\n",
    "from sklearn.metrics import classification_report, confusion_matrix\n",
    "\n",
    "# Inspecting functions\n",
    "import inspect\n",
    "\n",
    "# Time tracking\n",
    "import time"
   ]
  },
  {
   "cell_type": "code",
   "execution_count": 2,
   "metadata": {},
   "outputs": [],
   "source": [
    "# Loading data\n",
    "d = pd.read_csv('data.csv')"
   ]
  },
  {
   "cell_type": "code",
   "execution_count": 3,
   "metadata": {},
   "outputs": [
    {
     "data": {
      "text/plain": [
       "(569, 32)"
      ]
     },
     "execution_count": 3,
     "metadata": {},
     "output_type": "execute_result"
    }
   ],
   "source": [
    "d.isna().sum() # finds the sum of colomuns with missing val\n",
    "d=d.dropna(axis=1) # drops the last col with empty val\n",
    "d.shape"
   ]
  },
  {
   "cell_type": "code",
   "execution_count": 4,
   "metadata": {},
   "outputs": [
    {
     "data": {
      "text/html": [
       "<div>\n",
       "<style scoped>\n",
       "    .dataframe tbody tr th:only-of-type {\n",
       "        vertical-align: middle;\n",
       "    }\n",
       "\n",
       "    .dataframe tbody tr th {\n",
       "        vertical-align: top;\n",
       "    }\n",
       "\n",
       "    .dataframe thead th {\n",
       "        text-align: right;\n",
       "    }\n",
       "</style>\n",
       "<table border=\"1\" class=\"dataframe\">\n",
       "  <thead>\n",
       "    <tr style=\"text-align: right;\">\n",
       "      <th></th>\n",
       "      <th>id</th>\n",
       "      <th>diagnosis</th>\n",
       "      <th>radius_mean</th>\n",
       "      <th>texture_mean</th>\n",
       "      <th>perimeter_mean</th>\n",
       "      <th>area_mean</th>\n",
       "      <th>smoothness_mean</th>\n",
       "      <th>compactness_mean</th>\n",
       "      <th>concavity_mean</th>\n",
       "      <th>concave points_mean</th>\n",
       "      <th>...</th>\n",
       "      <th>radius_worst</th>\n",
       "      <th>texture_worst</th>\n",
       "      <th>perimeter_worst</th>\n",
       "      <th>area_worst</th>\n",
       "      <th>smoothness_worst</th>\n",
       "      <th>compactness_worst</th>\n",
       "      <th>concavity_worst</th>\n",
       "      <th>concave points_worst</th>\n",
       "      <th>symmetry_worst</th>\n",
       "      <th>fractal_dimension_worst</th>\n",
       "    </tr>\n",
       "  </thead>\n",
       "  <tbody>\n",
       "    <tr>\n",
       "      <th>0</th>\n",
       "      <td>842302</td>\n",
       "      <td>M</td>\n",
       "      <td>17.990</td>\n",
       "      <td>10.38</td>\n",
       "      <td>122.80</td>\n",
       "      <td>1001.0</td>\n",
       "      <td>0.11840</td>\n",
       "      <td>0.27760</td>\n",
       "      <td>0.300100</td>\n",
       "      <td>0.14710</td>\n",
       "      <td>...</td>\n",
       "      <td>25.38</td>\n",
       "      <td>17.33</td>\n",
       "      <td>184.60</td>\n",
       "      <td>2019.0</td>\n",
       "      <td>0.1622</td>\n",
       "      <td>0.66560</td>\n",
       "      <td>0.71190</td>\n",
       "      <td>0.26540</td>\n",
       "      <td>0.4601</td>\n",
       "      <td>0.11890</td>\n",
       "    </tr>\n",
       "    <tr>\n",
       "      <th>1</th>\n",
       "      <td>842517</td>\n",
       "      <td>M</td>\n",
       "      <td>20.570</td>\n",
       "      <td>17.77</td>\n",
       "      <td>132.90</td>\n",
       "      <td>1326.0</td>\n",
       "      <td>0.08474</td>\n",
       "      <td>0.07864</td>\n",
       "      <td>0.086900</td>\n",
       "      <td>0.07017</td>\n",
       "      <td>...</td>\n",
       "      <td>24.99</td>\n",
       "      <td>23.41</td>\n",
       "      <td>158.80</td>\n",
       "      <td>1956.0</td>\n",
       "      <td>0.1238</td>\n",
       "      <td>0.18660</td>\n",
       "      <td>0.24160</td>\n",
       "      <td>0.18600</td>\n",
       "      <td>0.2750</td>\n",
       "      <td>0.08902</td>\n",
       "    </tr>\n",
       "    <tr>\n",
       "      <th>2</th>\n",
       "      <td>84300903</td>\n",
       "      <td>M</td>\n",
       "      <td>19.690</td>\n",
       "      <td>21.25</td>\n",
       "      <td>130.00</td>\n",
       "      <td>1203.0</td>\n",
       "      <td>0.10960</td>\n",
       "      <td>0.15990</td>\n",
       "      <td>0.197400</td>\n",
       "      <td>0.12790</td>\n",
       "      <td>...</td>\n",
       "      <td>23.57</td>\n",
       "      <td>25.53</td>\n",
       "      <td>152.50</td>\n",
       "      <td>1709.0</td>\n",
       "      <td>0.1444</td>\n",
       "      <td>0.42450</td>\n",
       "      <td>0.45040</td>\n",
       "      <td>0.24300</td>\n",
       "      <td>0.3613</td>\n",
       "      <td>0.08758</td>\n",
       "    </tr>\n",
       "    <tr>\n",
       "      <th>3</th>\n",
       "      <td>84348301</td>\n",
       "      <td>M</td>\n",
       "      <td>11.420</td>\n",
       "      <td>20.38</td>\n",
       "      <td>77.58</td>\n",
       "      <td>386.1</td>\n",
       "      <td>0.14250</td>\n",
       "      <td>0.28390</td>\n",
       "      <td>0.241400</td>\n",
       "      <td>0.10520</td>\n",
       "      <td>...</td>\n",
       "      <td>14.91</td>\n",
       "      <td>26.50</td>\n",
       "      <td>98.87</td>\n",
       "      <td>567.7</td>\n",
       "      <td>0.2098</td>\n",
       "      <td>0.86630</td>\n",
       "      <td>0.68690</td>\n",
       "      <td>0.25750</td>\n",
       "      <td>0.6638</td>\n",
       "      <td>0.17300</td>\n",
       "    </tr>\n",
       "    <tr>\n",
       "      <th>4</th>\n",
       "      <td>84358402</td>\n",
       "      <td>M</td>\n",
       "      <td>20.290</td>\n",
       "      <td>14.34</td>\n",
       "      <td>135.10</td>\n",
       "      <td>1297.0</td>\n",
       "      <td>0.10030</td>\n",
       "      <td>0.13280</td>\n",
       "      <td>0.198000</td>\n",
       "      <td>0.10430</td>\n",
       "      <td>...</td>\n",
       "      <td>22.54</td>\n",
       "      <td>16.67</td>\n",
       "      <td>152.20</td>\n",
       "      <td>1575.0</td>\n",
       "      <td>0.1374</td>\n",
       "      <td>0.20500</td>\n",
       "      <td>0.40000</td>\n",
       "      <td>0.16250</td>\n",
       "      <td>0.2364</td>\n",
       "      <td>0.07678</td>\n",
       "    </tr>\n",
       "    <tr>\n",
       "      <th>...</th>\n",
       "      <td>...</td>\n",
       "      <td>...</td>\n",
       "      <td>...</td>\n",
       "      <td>...</td>\n",
       "      <td>...</td>\n",
       "      <td>...</td>\n",
       "      <td>...</td>\n",
       "      <td>...</td>\n",
       "      <td>...</td>\n",
       "      <td>...</td>\n",
       "      <td>...</td>\n",
       "      <td>...</td>\n",
       "      <td>...</td>\n",
       "      <td>...</td>\n",
       "      <td>...</td>\n",
       "      <td>...</td>\n",
       "      <td>...</td>\n",
       "      <td>...</td>\n",
       "      <td>...</td>\n",
       "      <td>...</td>\n",
       "      <td>...</td>\n",
       "    </tr>\n",
       "    <tr>\n",
       "      <th>554</th>\n",
       "      <td>924632</td>\n",
       "      <td>B</td>\n",
       "      <td>12.880</td>\n",
       "      <td>28.92</td>\n",
       "      <td>82.50</td>\n",
       "      <td>514.3</td>\n",
       "      <td>0.08123</td>\n",
       "      <td>0.05824</td>\n",
       "      <td>0.061950</td>\n",
       "      <td>0.02343</td>\n",
       "      <td>...</td>\n",
       "      <td>13.89</td>\n",
       "      <td>35.74</td>\n",
       "      <td>88.84</td>\n",
       "      <td>595.7</td>\n",
       "      <td>0.1227</td>\n",
       "      <td>0.16200</td>\n",
       "      <td>0.24390</td>\n",
       "      <td>0.06493</td>\n",
       "      <td>0.2372</td>\n",
       "      <td>0.07242</td>\n",
       "    </tr>\n",
       "    <tr>\n",
       "      <th>555</th>\n",
       "      <td>924934</td>\n",
       "      <td>B</td>\n",
       "      <td>10.290</td>\n",
       "      <td>27.61</td>\n",
       "      <td>65.67</td>\n",
       "      <td>321.4</td>\n",
       "      <td>0.09030</td>\n",
       "      <td>0.07658</td>\n",
       "      <td>0.059990</td>\n",
       "      <td>0.02738</td>\n",
       "      <td>...</td>\n",
       "      <td>10.84</td>\n",
       "      <td>34.91</td>\n",
       "      <td>69.57</td>\n",
       "      <td>357.6</td>\n",
       "      <td>0.1384</td>\n",
       "      <td>0.17100</td>\n",
       "      <td>0.20000</td>\n",
       "      <td>0.09127</td>\n",
       "      <td>0.2226</td>\n",
       "      <td>0.08283</td>\n",
       "    </tr>\n",
       "    <tr>\n",
       "      <th>556</th>\n",
       "      <td>924964</td>\n",
       "      <td>B</td>\n",
       "      <td>10.160</td>\n",
       "      <td>19.59</td>\n",
       "      <td>64.73</td>\n",
       "      <td>311.7</td>\n",
       "      <td>0.10030</td>\n",
       "      <td>0.07504</td>\n",
       "      <td>0.005025</td>\n",
       "      <td>0.01116</td>\n",
       "      <td>...</td>\n",
       "      <td>10.65</td>\n",
       "      <td>22.88</td>\n",
       "      <td>67.88</td>\n",
       "      <td>347.3</td>\n",
       "      <td>0.1265</td>\n",
       "      <td>0.12000</td>\n",
       "      <td>0.01005</td>\n",
       "      <td>0.02232</td>\n",
       "      <td>0.2262</td>\n",
       "      <td>0.06742</td>\n",
       "    </tr>\n",
       "    <tr>\n",
       "      <th>557</th>\n",
       "      <td>925236</td>\n",
       "      <td>B</td>\n",
       "      <td>9.423</td>\n",
       "      <td>27.88</td>\n",
       "      <td>59.26</td>\n",
       "      <td>271.3</td>\n",
       "      <td>0.08123</td>\n",
       "      <td>0.04971</td>\n",
       "      <td>0.000000</td>\n",
       "      <td>0.00000</td>\n",
       "      <td>...</td>\n",
       "      <td>10.49</td>\n",
       "      <td>34.24</td>\n",
       "      <td>66.50</td>\n",
       "      <td>330.6</td>\n",
       "      <td>0.1073</td>\n",
       "      <td>0.07158</td>\n",
       "      <td>0.00000</td>\n",
       "      <td>0.00000</td>\n",
       "      <td>0.2475</td>\n",
       "      <td>0.06969</td>\n",
       "    </tr>\n",
       "    <tr>\n",
       "      <th>558</th>\n",
       "      <td>925277</td>\n",
       "      <td>B</td>\n",
       "      <td>14.590</td>\n",
       "      <td>22.68</td>\n",
       "      <td>96.39</td>\n",
       "      <td>657.1</td>\n",
       "      <td>0.08473</td>\n",
       "      <td>0.13300</td>\n",
       "      <td>0.102900</td>\n",
       "      <td>0.03736</td>\n",
       "      <td>...</td>\n",
       "      <td>15.48</td>\n",
       "      <td>27.27</td>\n",
       "      <td>105.90</td>\n",
       "      <td>733.5</td>\n",
       "      <td>0.1026</td>\n",
       "      <td>0.31710</td>\n",
       "      <td>0.36620</td>\n",
       "      <td>0.11050</td>\n",
       "      <td>0.2258</td>\n",
       "      <td>0.08004</td>\n",
       "    </tr>\n",
       "  </tbody>\n",
       "</table>\n",
       "<p>559 rows × 32 columns</p>\n",
       "</div>"
      ],
      "text/plain": [
       "           id diagnosis  radius_mean  texture_mean  perimeter_mean  area_mean  \\\n",
       "0      842302         M       17.990         10.38          122.80     1001.0   \n",
       "1      842517         M       20.570         17.77          132.90     1326.0   \n",
       "2    84300903         M       19.690         21.25          130.00     1203.0   \n",
       "3    84348301         M       11.420         20.38           77.58      386.1   \n",
       "4    84358402         M       20.290         14.34          135.10     1297.0   \n",
       "..        ...       ...          ...           ...             ...        ...   \n",
       "554    924632         B       12.880         28.92           82.50      514.3   \n",
       "555    924934         B       10.290         27.61           65.67      321.4   \n",
       "556    924964         B       10.160         19.59           64.73      311.7   \n",
       "557    925236         B        9.423         27.88           59.26      271.3   \n",
       "558    925277         B       14.590         22.68           96.39      657.1   \n",
       "\n",
       "     smoothness_mean  compactness_mean  concavity_mean  concave points_mean  \\\n",
       "0            0.11840           0.27760        0.300100              0.14710   \n",
       "1            0.08474           0.07864        0.086900              0.07017   \n",
       "2            0.10960           0.15990        0.197400              0.12790   \n",
       "3            0.14250           0.28390        0.241400              0.10520   \n",
       "4            0.10030           0.13280        0.198000              0.10430   \n",
       "..               ...               ...             ...                  ...   \n",
       "554          0.08123           0.05824        0.061950              0.02343   \n",
       "555          0.09030           0.07658        0.059990              0.02738   \n",
       "556          0.10030           0.07504        0.005025              0.01116   \n",
       "557          0.08123           0.04971        0.000000              0.00000   \n",
       "558          0.08473           0.13300        0.102900              0.03736   \n",
       "\n",
       "     ...  radius_worst  texture_worst  perimeter_worst  area_worst  \\\n",
       "0    ...         25.38          17.33           184.60      2019.0   \n",
       "1    ...         24.99          23.41           158.80      1956.0   \n",
       "2    ...         23.57          25.53           152.50      1709.0   \n",
       "3    ...         14.91          26.50            98.87       567.7   \n",
       "4    ...         22.54          16.67           152.20      1575.0   \n",
       "..   ...           ...            ...              ...         ...   \n",
       "554  ...         13.89          35.74            88.84       595.7   \n",
       "555  ...         10.84          34.91            69.57       357.6   \n",
       "556  ...         10.65          22.88            67.88       347.3   \n",
       "557  ...         10.49          34.24            66.50       330.6   \n",
       "558  ...         15.48          27.27           105.90       733.5   \n",
       "\n",
       "     smoothness_worst  compactness_worst  concavity_worst  \\\n",
       "0              0.1622            0.66560          0.71190   \n",
       "1              0.1238            0.18660          0.24160   \n",
       "2              0.1444            0.42450          0.45040   \n",
       "3              0.2098            0.86630          0.68690   \n",
       "4              0.1374            0.20500          0.40000   \n",
       "..                ...                ...              ...   \n",
       "554            0.1227            0.16200          0.24390   \n",
       "555            0.1384            0.17100          0.20000   \n",
       "556            0.1265            0.12000          0.01005   \n",
       "557            0.1073            0.07158          0.00000   \n",
       "558            0.1026            0.31710          0.36620   \n",
       "\n",
       "     concave points_worst  symmetry_worst  fractal_dimension_worst  \n",
       "0                 0.26540          0.4601                  0.11890  \n",
       "1                 0.18600          0.2750                  0.08902  \n",
       "2                 0.24300          0.3613                  0.08758  \n",
       "3                 0.25750          0.6638                  0.17300  \n",
       "4                 0.16250          0.2364                  0.07678  \n",
       "..                    ...             ...                      ...  \n",
       "554               0.06493          0.2372                  0.07242  \n",
       "555               0.09127          0.2226                  0.08283  \n",
       "556               0.02232          0.2262                  0.06742  \n",
       "557               0.00000          0.2475                  0.06969  \n",
       "558               0.11050          0.2258                  0.08004  \n",
       "\n",
       "[559 rows x 32 columns]"
      ]
     },
     "execution_count": 4,
     "metadata": {},
     "output_type": "execute_result"
    }
   ],
   "source": [
    "d.head(-10)"
   ]
  },
  {
   "cell_type": "code",
   "execution_count": 5,
   "metadata": {},
   "outputs": [
    {
     "data": {
      "text/plain": [
       "0      1\n",
       "1      1\n",
       "2      1\n",
       "3      1\n",
       "4      1\n",
       "      ..\n",
       "564    1\n",
       "565    1\n",
       "566    1\n",
       "567    1\n",
       "568    0\n",
       "Name: diagnosis, Length: 569, dtype: int32"
      ]
     },
     "execution_count": 5,
     "metadata": {},
     "output_type": "execute_result"
    }
   ],
   "source": [
    "labelencoder_Y= LabelEncoder()\n",
    "d.iloc[:,1]=labelencoder_Y.fit_transform(d.iloc[:,1].values)\n",
    "d.iloc[:,1]"
   ]
  },
  {
   "cell_type": "code",
   "execution_count": 6,
   "metadata": {},
   "outputs": [
    {
     "name": "stdout",
     "output_type": "stream",
     "text": [
      "<class 'pandas.core.frame.DataFrame'>\n",
      "RangeIndex: 569 entries, 0 to 568\n",
      "Data columns (total 32 columns):\n",
      " #   Column                   Non-Null Count  Dtype  \n",
      "---  ------                   --------------  -----  \n",
      " 0   id                       569 non-null    int64  \n",
      " 1   diagnosis                569 non-null    int32  \n",
      " 2   radius_mean              569 non-null    float64\n",
      " 3   texture_mean             569 non-null    float64\n",
      " 4   perimeter_mean           569 non-null    float64\n",
      " 5   area_mean                569 non-null    float64\n",
      " 6   smoothness_mean          569 non-null    float64\n",
      " 7   compactness_mean         569 non-null    float64\n",
      " 8   concavity_mean           569 non-null    float64\n",
      " 9   concave points_mean      569 non-null    float64\n",
      " 10  symmetry_mean            569 non-null    float64\n",
      " 11  fractal_dimension_mean   569 non-null    float64\n",
      " 12  radius_se                569 non-null    float64\n",
      " 13  texture_se               569 non-null    float64\n",
      " 14  perimeter_se             569 non-null    float64\n",
      " 15  area_se                  569 non-null    float64\n",
      " 16  smoothness_se            569 non-null    float64\n",
      " 17  compactness_se           569 non-null    float64\n",
      " 18  concavity_se             569 non-null    float64\n",
      " 19  concave points_se        569 non-null    float64\n",
      " 20  symmetry_se              569 non-null    float64\n",
      " 21  fractal_dimension_se     569 non-null    float64\n",
      " 22  radius_worst             569 non-null    float64\n",
      " 23  texture_worst            569 non-null    float64\n",
      " 24  perimeter_worst          569 non-null    float64\n",
      " 25  area_worst               569 non-null    float64\n",
      " 26  smoothness_worst         569 non-null    float64\n",
      " 27  compactness_worst        569 non-null    float64\n",
      " 28  concavity_worst          569 non-null    float64\n",
      " 29  concave points_worst     569 non-null    float64\n",
      " 30  symmetry_worst           569 non-null    float64\n",
      " 31  fractal_dimension_worst  569 non-null    float64\n",
      "dtypes: float64(30), int32(1), int64(1)\n",
      "memory usage: 140.2 KB\n"
     ]
    }
   ],
   "source": [
    "d.info()"
   ]
  },
  {
   "cell_type": "code",
   "execution_count": 7,
   "metadata": {},
   "outputs": [
    {
     "data": {
      "text/plain": [
       "(569, 32)"
      ]
     },
     "execution_count": 7,
     "metadata": {},
     "output_type": "execute_result"
    }
   ],
   "source": [
    "d.shape"
   ]
  },
  {
   "cell_type": "code",
   "execution_count": 8,
   "metadata": {},
   "outputs": [
    {
     "data": {
      "text/html": [
       "<div>\n",
       "<style scoped>\n",
       "    .dataframe tbody tr th:only-of-type {\n",
       "        vertical-align: middle;\n",
       "    }\n",
       "\n",
       "    .dataframe tbody tr th {\n",
       "        vertical-align: top;\n",
       "    }\n",
       "\n",
       "    .dataframe thead th {\n",
       "        text-align: right;\n",
       "    }\n",
       "</style>\n",
       "<table border=\"1\" class=\"dataframe\">\n",
       "  <thead>\n",
       "    <tr style=\"text-align: right;\">\n",
       "      <th></th>\n",
       "      <th>id</th>\n",
       "      <th>diagnosis</th>\n",
       "      <th>radius_mean</th>\n",
       "      <th>texture_mean</th>\n",
       "      <th>perimeter_mean</th>\n",
       "      <th>area_mean</th>\n",
       "      <th>smoothness_mean</th>\n",
       "      <th>compactness_mean</th>\n",
       "      <th>concavity_mean</th>\n",
       "      <th>concave points_mean</th>\n",
       "      <th>...</th>\n",
       "      <th>radius_worst</th>\n",
       "      <th>texture_worst</th>\n",
       "      <th>perimeter_worst</th>\n",
       "      <th>area_worst</th>\n",
       "      <th>smoothness_worst</th>\n",
       "      <th>compactness_worst</th>\n",
       "      <th>concavity_worst</th>\n",
       "      <th>concave points_worst</th>\n",
       "      <th>symmetry_worst</th>\n",
       "      <th>fractal_dimension_worst</th>\n",
       "    </tr>\n",
       "  </thead>\n",
       "  <tbody>\n",
       "    <tr>\n",
       "      <th>count</th>\n",
       "      <td>5.690000e+02</td>\n",
       "      <td>569.000000</td>\n",
       "      <td>569.000000</td>\n",
       "      <td>569.000000</td>\n",
       "      <td>569.000000</td>\n",
       "      <td>569.000000</td>\n",
       "      <td>569.000000</td>\n",
       "      <td>569.000000</td>\n",
       "      <td>569.000000</td>\n",
       "      <td>569.000000</td>\n",
       "      <td>...</td>\n",
       "      <td>569.000000</td>\n",
       "      <td>569.000000</td>\n",
       "      <td>569.000000</td>\n",
       "      <td>569.000000</td>\n",
       "      <td>569.000000</td>\n",
       "      <td>569.000000</td>\n",
       "      <td>569.000000</td>\n",
       "      <td>569.000000</td>\n",
       "      <td>569.000000</td>\n",
       "      <td>569.000000</td>\n",
       "    </tr>\n",
       "    <tr>\n",
       "      <th>mean</th>\n",
       "      <td>3.037183e+07</td>\n",
       "      <td>0.372583</td>\n",
       "      <td>14.127292</td>\n",
       "      <td>19.289649</td>\n",
       "      <td>91.969033</td>\n",
       "      <td>654.889104</td>\n",
       "      <td>0.096360</td>\n",
       "      <td>0.104341</td>\n",
       "      <td>0.088799</td>\n",
       "      <td>0.048919</td>\n",
       "      <td>...</td>\n",
       "      <td>16.269190</td>\n",
       "      <td>25.677223</td>\n",
       "      <td>107.261213</td>\n",
       "      <td>880.583128</td>\n",
       "      <td>0.132369</td>\n",
       "      <td>0.254265</td>\n",
       "      <td>0.272188</td>\n",
       "      <td>0.114606</td>\n",
       "      <td>0.290076</td>\n",
       "      <td>0.083946</td>\n",
       "    </tr>\n",
       "    <tr>\n",
       "      <th>std</th>\n",
       "      <td>1.250206e+08</td>\n",
       "      <td>0.483918</td>\n",
       "      <td>3.524049</td>\n",
       "      <td>4.301036</td>\n",
       "      <td>24.298981</td>\n",
       "      <td>351.914129</td>\n",
       "      <td>0.014064</td>\n",
       "      <td>0.052813</td>\n",
       "      <td>0.079720</td>\n",
       "      <td>0.038803</td>\n",
       "      <td>...</td>\n",
       "      <td>4.833242</td>\n",
       "      <td>6.146258</td>\n",
       "      <td>33.602542</td>\n",
       "      <td>569.356993</td>\n",
       "      <td>0.022832</td>\n",
       "      <td>0.157336</td>\n",
       "      <td>0.208624</td>\n",
       "      <td>0.065732</td>\n",
       "      <td>0.061867</td>\n",
       "      <td>0.018061</td>\n",
       "    </tr>\n",
       "    <tr>\n",
       "      <th>min</th>\n",
       "      <td>8.670000e+03</td>\n",
       "      <td>0.000000</td>\n",
       "      <td>6.981000</td>\n",
       "      <td>9.710000</td>\n",
       "      <td>43.790000</td>\n",
       "      <td>143.500000</td>\n",
       "      <td>0.052630</td>\n",
       "      <td>0.019380</td>\n",
       "      <td>0.000000</td>\n",
       "      <td>0.000000</td>\n",
       "      <td>...</td>\n",
       "      <td>7.930000</td>\n",
       "      <td>12.020000</td>\n",
       "      <td>50.410000</td>\n",
       "      <td>185.200000</td>\n",
       "      <td>0.071170</td>\n",
       "      <td>0.027290</td>\n",
       "      <td>0.000000</td>\n",
       "      <td>0.000000</td>\n",
       "      <td>0.156500</td>\n",
       "      <td>0.055040</td>\n",
       "    </tr>\n",
       "    <tr>\n",
       "      <th>25%</th>\n",
       "      <td>8.692180e+05</td>\n",
       "      <td>0.000000</td>\n",
       "      <td>11.700000</td>\n",
       "      <td>16.170000</td>\n",
       "      <td>75.170000</td>\n",
       "      <td>420.300000</td>\n",
       "      <td>0.086370</td>\n",
       "      <td>0.064920</td>\n",
       "      <td>0.029560</td>\n",
       "      <td>0.020310</td>\n",
       "      <td>...</td>\n",
       "      <td>13.010000</td>\n",
       "      <td>21.080000</td>\n",
       "      <td>84.110000</td>\n",
       "      <td>515.300000</td>\n",
       "      <td>0.116600</td>\n",
       "      <td>0.147200</td>\n",
       "      <td>0.114500</td>\n",
       "      <td>0.064930</td>\n",
       "      <td>0.250400</td>\n",
       "      <td>0.071460</td>\n",
       "    </tr>\n",
       "    <tr>\n",
       "      <th>50%</th>\n",
       "      <td>9.060240e+05</td>\n",
       "      <td>0.000000</td>\n",
       "      <td>13.370000</td>\n",
       "      <td>18.840000</td>\n",
       "      <td>86.240000</td>\n",
       "      <td>551.100000</td>\n",
       "      <td>0.095870</td>\n",
       "      <td>0.092630</td>\n",
       "      <td>0.061540</td>\n",
       "      <td>0.033500</td>\n",
       "      <td>...</td>\n",
       "      <td>14.970000</td>\n",
       "      <td>25.410000</td>\n",
       "      <td>97.660000</td>\n",
       "      <td>686.500000</td>\n",
       "      <td>0.131300</td>\n",
       "      <td>0.211900</td>\n",
       "      <td>0.226700</td>\n",
       "      <td>0.099930</td>\n",
       "      <td>0.282200</td>\n",
       "      <td>0.080040</td>\n",
       "    </tr>\n",
       "    <tr>\n",
       "      <th>75%</th>\n",
       "      <td>8.813129e+06</td>\n",
       "      <td>1.000000</td>\n",
       "      <td>15.780000</td>\n",
       "      <td>21.800000</td>\n",
       "      <td>104.100000</td>\n",
       "      <td>782.700000</td>\n",
       "      <td>0.105300</td>\n",
       "      <td>0.130400</td>\n",
       "      <td>0.130700</td>\n",
       "      <td>0.074000</td>\n",
       "      <td>...</td>\n",
       "      <td>18.790000</td>\n",
       "      <td>29.720000</td>\n",
       "      <td>125.400000</td>\n",
       "      <td>1084.000000</td>\n",
       "      <td>0.146000</td>\n",
       "      <td>0.339100</td>\n",
       "      <td>0.382900</td>\n",
       "      <td>0.161400</td>\n",
       "      <td>0.317900</td>\n",
       "      <td>0.092080</td>\n",
       "    </tr>\n",
       "    <tr>\n",
       "      <th>max</th>\n",
       "      <td>9.113205e+08</td>\n",
       "      <td>1.000000</td>\n",
       "      <td>28.110000</td>\n",
       "      <td>39.280000</td>\n",
       "      <td>188.500000</td>\n",
       "      <td>2501.000000</td>\n",
       "      <td>0.163400</td>\n",
       "      <td>0.345400</td>\n",
       "      <td>0.426800</td>\n",
       "      <td>0.201200</td>\n",
       "      <td>...</td>\n",
       "      <td>36.040000</td>\n",
       "      <td>49.540000</td>\n",
       "      <td>251.200000</td>\n",
       "      <td>4254.000000</td>\n",
       "      <td>0.222600</td>\n",
       "      <td>1.058000</td>\n",
       "      <td>1.252000</td>\n",
       "      <td>0.291000</td>\n",
       "      <td>0.663800</td>\n",
       "      <td>0.207500</td>\n",
       "    </tr>\n",
       "  </tbody>\n",
       "</table>\n",
       "<p>8 rows × 32 columns</p>\n",
       "</div>"
      ],
      "text/plain": [
       "                 id   diagnosis  radius_mean  texture_mean  perimeter_mean  \\\n",
       "count  5.690000e+02  569.000000   569.000000    569.000000      569.000000   \n",
       "mean   3.037183e+07    0.372583    14.127292     19.289649       91.969033   \n",
       "std    1.250206e+08    0.483918     3.524049      4.301036       24.298981   \n",
       "min    8.670000e+03    0.000000     6.981000      9.710000       43.790000   \n",
       "25%    8.692180e+05    0.000000    11.700000     16.170000       75.170000   \n",
       "50%    9.060240e+05    0.000000    13.370000     18.840000       86.240000   \n",
       "75%    8.813129e+06    1.000000    15.780000     21.800000      104.100000   \n",
       "max    9.113205e+08    1.000000    28.110000     39.280000      188.500000   \n",
       "\n",
       "         area_mean  smoothness_mean  compactness_mean  concavity_mean  \\\n",
       "count   569.000000       569.000000        569.000000      569.000000   \n",
       "mean    654.889104         0.096360          0.104341        0.088799   \n",
       "std     351.914129         0.014064          0.052813        0.079720   \n",
       "min     143.500000         0.052630          0.019380        0.000000   \n",
       "25%     420.300000         0.086370          0.064920        0.029560   \n",
       "50%     551.100000         0.095870          0.092630        0.061540   \n",
       "75%     782.700000         0.105300          0.130400        0.130700   \n",
       "max    2501.000000         0.163400          0.345400        0.426800   \n",
       "\n",
       "       concave points_mean  ...  radius_worst  texture_worst  perimeter_worst  \\\n",
       "count           569.000000  ...    569.000000     569.000000       569.000000   \n",
       "mean              0.048919  ...     16.269190      25.677223       107.261213   \n",
       "std               0.038803  ...      4.833242       6.146258        33.602542   \n",
       "min               0.000000  ...      7.930000      12.020000        50.410000   \n",
       "25%               0.020310  ...     13.010000      21.080000        84.110000   \n",
       "50%               0.033500  ...     14.970000      25.410000        97.660000   \n",
       "75%               0.074000  ...     18.790000      29.720000       125.400000   \n",
       "max               0.201200  ...     36.040000      49.540000       251.200000   \n",
       "\n",
       "        area_worst  smoothness_worst  compactness_worst  concavity_worst  \\\n",
       "count   569.000000        569.000000         569.000000       569.000000   \n",
       "mean    880.583128          0.132369           0.254265         0.272188   \n",
       "std     569.356993          0.022832           0.157336         0.208624   \n",
       "min     185.200000          0.071170           0.027290         0.000000   \n",
       "25%     515.300000          0.116600           0.147200         0.114500   \n",
       "50%     686.500000          0.131300           0.211900         0.226700   \n",
       "75%    1084.000000          0.146000           0.339100         0.382900   \n",
       "max    4254.000000          0.222600           1.058000         1.252000   \n",
       "\n",
       "       concave points_worst  symmetry_worst  fractal_dimension_worst  \n",
       "count            569.000000      569.000000               569.000000  \n",
       "mean               0.114606        0.290076                 0.083946  \n",
       "std                0.065732        0.061867                 0.018061  \n",
       "min                0.000000        0.156500                 0.055040  \n",
       "25%                0.064930        0.250400                 0.071460  \n",
       "50%                0.099930        0.282200                 0.080040  \n",
       "75%                0.161400        0.317900                 0.092080  \n",
       "max                0.291000        0.663800                 0.207500  \n",
       "\n",
       "[8 rows x 32 columns]"
      ]
     },
     "execution_count": 8,
     "metadata": {},
     "output_type": "execute_result"
    }
   ],
   "source": [
    "d.describe()"
   ]
  },
  {
   "cell_type": "code",
   "execution_count": 9,
   "metadata": {},
   "outputs": [
    {
     "data": {
      "text/plain": [
       "id                         False\n",
       "diagnosis                  False\n",
       "radius_mean                False\n",
       "texture_mean               False\n",
       "perimeter_mean             False\n",
       "area_mean                  False\n",
       "smoothness_mean            False\n",
       "compactness_mean           False\n",
       "concavity_mean             False\n",
       "concave points_mean        False\n",
       "symmetry_mean              False\n",
       "fractal_dimension_mean     False\n",
       "radius_se                  False\n",
       "texture_se                 False\n",
       "perimeter_se               False\n",
       "area_se                    False\n",
       "smoothness_se              False\n",
       "compactness_se             False\n",
       "concavity_se               False\n",
       "concave points_se          False\n",
       "symmetry_se                False\n",
       "fractal_dimension_se       False\n",
       "radius_worst               False\n",
       "texture_worst              False\n",
       "perimeter_worst            False\n",
       "area_worst                 False\n",
       "smoothness_worst           False\n",
       "compactness_worst          False\n",
       "concavity_worst            False\n",
       "concave points_worst       False\n",
       "symmetry_worst             False\n",
       "fractal_dimension_worst    False\n",
       "dtype: bool"
      ]
     },
     "execution_count": 9,
     "metadata": {},
     "output_type": "execute_result"
    }
   ],
   "source": [
    "d.isnull().any()"
   ]
  },
  {
   "cell_type": "code",
   "execution_count": 10,
   "metadata": {},
   "outputs": [],
   "source": [
    "# let's plot pair plot to visualise the attributes all at once\n",
    "#sns.pairplot(data=d, hue = 'diagnosis')"
   ]
  },
  {
   "cell_type": "code",
   "execution_count": 11,
   "metadata": {},
   "outputs": [],
   "source": [
    "# correlation matrix\n",
    "#plt.figure(figsize=(12,10))\n",
    "#sns.heatmap(d.corr(),annot=True,cmap=\"magma\",fmt='.2f')"
   ]
  },
  {
   "cell_type": "code",
   "execution_count": 12,
   "metadata": {},
   "outputs": [
    {
     "name": "stdout",
     "output_type": "stream",
     "text": [
      "              Specs          Score\n",
      "23       area_worst  112598.431564\n",
      "3         area_mean   53991.655924\n",
      "13          area_se    8758.504705\n",
      "22  perimeter_worst    3665.035416\n",
      "2    perimeter_mean    2011.102864\n",
      "20     radius_worst     491.689157\n",
      "0       radius_mean     266.104917\n",
      "12     perimeter_se     250.571896\n",
      "21    texture_worst     174.449400\n",
      "1      texture_mean      93.897508\n",
      "26  concavity_worst      39.516915\n",
      "10        radius_se      34.675247\n"
     ]
    }
   ],
   "source": [
    "from sklearn.feature_selection import SelectKBest\n",
    "from sklearn.feature_selection import chi2\n",
    "\n",
    "data = d.copy()\n",
    "X = data.iloc[:,2:31]  #independent columns\n",
    "y = data.iloc[:,1]    #target column \n",
    "#apply SelectKBest class to extract top best features\n",
    "\n",
    "bestfeatures = SelectKBest(score_func=chi2, k=10)\n",
    "fit = bestfeatures.fit(X,y)\n",
    "dfscores = pd.DataFrame(fit.scores_)\n",
    "dfcolumns = pd.DataFrame(X.columns)\n",
    "#concat two dataframes for better visualization \n",
    "featureScores = pd.concat([dfcolumns,dfscores],axis=1)\n",
    "featureScores.columns = ['Specs','Score']  #naming the dataframe columns\n",
    "print(featureScores.nlargest(12,'Score'))  #print best features"
   ]
  },
  {
   "cell_type": "markdown",
   "metadata": {},
   "source": [
    "Lets say we want to create a classifier whether a person have heart disease or not using two variables: trestbps and oldpeak. We want to create a simple decision tree to accomplish this task. "
   ]
  },
  {
   "cell_type": "code",
   "execution_count": 13,
   "metadata": {},
   "outputs": [],
   "source": [
    "dd = d[['diagnosis', 'area_mean', 'area_worst']].copy()\n",
    "\n",
    "# Droping missing entries\n",
    "dd.dropna(inplace=True)"
   ]
  },
  {
   "cell_type": "code",
   "execution_count": 14,
   "metadata": {},
   "outputs": [
    {
     "name": "stdout",
     "output_type": "stream",
     "text": [
      "Number of observations: 569\n"
     ]
    }
   ],
   "source": [
    "print(f\"Number of observations: {dd.shape[0]}\")"
   ]
  },
  {
   "cell_type": "code",
   "execution_count": 15,
   "metadata": {},
   "outputs": [
    {
     "data": {
      "image/png": "[encoded data removed]",
      "text/plain": [
       "<Figure size 720x720 with 1 Axes>"
      ]
     },
     "metadata": {
      "needs_background": "light"
     },
     "output_type": "display_data"
    }
   ],
   "source": [
    "plt.figure(figsize=(10, 10))\n",
    "sns.scatterplot(y='area_mean', x='area_worst', data=dd, hue='diagnosis')\n",
    "plt.grid()\n",
    "plt.show()"
   ]
  },
  {
   "cell_type": "code",
   "execution_count": 16,
   "metadata": {},
   "outputs": [
    {
     "data": {
      "image/png": "[encoded data removed]",
      "text/plain": [
       "<Figure size 720x720 with 1 Axes>"
      ]
     },
     "metadata": {
      "needs_background": "light"
     },
     "output_type": "display_data"
    }
   ],
   "source": [
    "# Define the split value \n",
    "area_worst_split = 800\n",
    "\n",
    "# Ploting the original plot\n",
    "plt.figure(figsize=(10, 10))\n",
    "sns.scatterplot(y='area_mean', x='area_worst', data=dd, hue='diagnosis')\n",
    "plt.grid()\n",
    "\n",
    "# Adding the vertical line\n",
    "plt.axvline(area_worst_split, label='Spliting criteria', color='red')\n",
    "plt.legend()\n",
    "plt.show()"
   ]
  },
  {
   "cell_type": "code",
   "execution_count": 17,
   "metadata": {},
   "outputs": [],
   "source": [
    "# Getting the left and right datasets\n",
    "left = dd[dd['area_worst']<=area_worst_split]\n",
    "right = dd[dd['area_worst']>area_worst_split]"
   ]
  },
  {
   "cell_type": "markdown",
   "metadata": {},
   "source": [
    "We made a decision to split the data into two parts based on the visual ques from the scatterplot. Some statistics:"
   ]
  },
  {
   "cell_type": "code",
   "execution_count": 18,
   "metadata": {},
   "outputs": [
    {
     "name": "stdout",
     "output_type": "stream",
     "text": [
      "Observations to the left of criteria: 348\n",
      "Observations to the right of criteria: 221\n"
     ]
    }
   ],
   "source": [
    "print(f\"Observations to the left of criteria: {left.shape[0]}\")\n",
    "print(f\"Observations to the right of criteria: {right.shape[0]}\")"
   ]
  },
  {
   "cell_type": "code",
   "execution_count": 19,
   "metadata": {},
   "outputs": [
    {
     "data": {
      "text/html": [
       "<div>\n",
       "<style scoped>\n",
       "    .dataframe tbody tr th:only-of-type {\n",
       "        vertical-align: middle;\n",
       "    }\n",
       "\n",
       "    .dataframe tbody tr th {\n",
       "        vertical-align: top;\n",
       "    }\n",
       "\n",
       "    .dataframe thead th {\n",
       "        text-align: right;\n",
       "    }\n",
       "</style>\n",
       "<table border=\"1\" class=\"dataframe\">\n",
       "  <thead>\n",
       "    <tr style=\"text-align: right;\">\n",
       "      <th></th>\n",
       "      <th>diagnosis</th>\n",
       "      <th>size</th>\n",
       "    </tr>\n",
       "  </thead>\n",
       "  <tbody>\n",
       "    <tr>\n",
       "      <th>0</th>\n",
       "      <td>0</td>\n",
       "      <td>324</td>\n",
       "    </tr>\n",
       "    <tr>\n",
       "      <th>1</th>\n",
       "      <td>1</td>\n",
       "      <td>24</td>\n",
       "    </tr>\n",
       "  </tbody>\n",
       "</table>\n",
       "</div>"
      ],
      "text/plain": [
       "   diagnosis  size\n",
       "0          0   324\n",
       "1          1    24"
      ]
     },
     "execution_count": 19,
     "metadata": {},
     "output_type": "execute_result"
    }
   ],
   "source": [
    "left.groupby('diagnosis', as_index=False).size()"
   ]
  },
  {
   "cell_type": "code",
   "execution_count": 20,
   "metadata": {},
   "outputs": [
    {
     "data": {
      "text/html": [
       "<div>\n",
       "<style scoped>\n",
       "    .dataframe tbody tr th:only-of-type {\n",
       "        vertical-align: middle;\n",
       "    }\n",
       "\n",
       "    .dataframe tbody tr th {\n",
       "        vertical-align: top;\n",
       "    }\n",
       "\n",
       "    .dataframe thead th {\n",
       "        text-align: right;\n",
       "    }\n",
       "</style>\n",
       "<table border=\"1\" class=\"dataframe\">\n",
       "  <thead>\n",
       "    <tr style=\"text-align: right;\">\n",
       "      <th></th>\n",
       "      <th>diagnosis</th>\n",
       "      <th>size</th>\n",
       "    </tr>\n",
       "  </thead>\n",
       "  <tbody>\n",
       "    <tr>\n",
       "      <th>0</th>\n",
       "      <td>0</td>\n",
       "      <td>33</td>\n",
       "    </tr>\n",
       "    <tr>\n",
       "      <th>1</th>\n",
       "      <td>1</td>\n",
       "      <td>188</td>\n",
       "    </tr>\n",
       "  </tbody>\n",
       "</table>\n",
       "</div>"
      ],
      "text/plain": [
       "   diagnosis  size\n",
       "0          0    33\n",
       "1          1   188"
      ]
     },
     "execution_count": 20,
     "metadata": {},
     "output_type": "execute_result"
    }
   ],
   "source": [
    "right.groupby('diagnosis', as_index=False).size()"
   ]
  },
  {
   "cell_type": "markdown",
   "metadata": {},
   "source": [
    "There are observations from both of the classes in the nodes. Thus, each of the nodes are are **impure**. But how impure? To measure impurity we use the **GINI** impurity coefficient. "
   ]
  },
  {
   "cell_type": "markdown",
   "metadata": {},
   "source": [
    "# GINI impurity definition "
   ]
  },
  {
   "cell_type": "markdown",
   "metadata": {},
   "source": [
    "The GINI impurity index is the default spliting criteria when building decision trees. "
   ]
  },
  {
   "cell_type": "markdown",
   "metadata": {},
   "source": [
    "The formal definition for GINI impurity is as follows: \n",
    "    \n",
    "*Gini impurity is a measure of how often a randomly chosen element from the set would be incorrectly labeled if it was randomly labeled according to the distribution of labels in the subset.*"
   ]
  },
  {
   "cell_type": "markdown",
   "metadata": {},
   "source": [
    "The definition is not very intuitive so lets bring some clarity. \n",
    "\n",
    "Suppose we have two classes in the dataset:\n",
    "\n",
    "$$k_{1}, k_{2}$$. \n",
    "\n",
    "Each of the classes have $n_{1}$ and $n_{2}$ observations."
   ]
  },
  {
   "cell_type": "markdown",
   "metadata": {},
   "source": [
    "The probability of observing something from one of the $k$ classes is: "
   ]
  },
  {
   "cell_type": "markdown",
   "metadata": {},
   "source": [
    "$$p(i) = P(x_{i} \\in k_{i}) = \\dfrac{n_{i}}{n_{1} + n_{2}},  i \\in \\{1, 2\\}$$"
   ]
  },
  {
   "cell_type": "markdown",
   "metadata": {},
   "source": [
    "The GINI impurity of such a system is calculated with the following formula:\n",
    "    \n",
    "$$G = 1 - \\Sigma_{i=1}^{2}p(i)^{2}$$"
   ]
  },
  {
   "cell_type": "markdown",
   "metadata": {},
   "source": [
    "The function for calculating the impurity is in the **Node** class:"
   ]
  },
  {
   "cell_type": "code",
   "execution_count": 21,
   "metadata": {},
   "outputs": [
    {
     "name": "stdout",
     "output_type": "stream",
     "text": [
      "    @staticmethod\n",
      "    def GINI_impurity(y1_count: int, y2_count: int) -> float:\n",
      "        \"\"\"\n",
      "        Given the observations of a binary class calculate the GINI impurity\n",
      "        \"\"\"\n",
      "        # Ensuring the correct types\n",
      "        if y1_count is None:\n",
      "            y1_count = 0\n",
      "\n",
      "        if y2_count is None:\n",
      "            y2_count = 0\n",
      "\n",
      "        # Getting the total observations\n",
      "        n = y1_count + y2_count\n",
      "        \n",
      "        # If n is 0 then we return the lowest possible gini impurity\n",
      "        if n == 0:\n",
      "            return 0.0\n",
      "\n",
      "        # Getting the probability to see each of the classes\n",
      "        p1 = y1_count / n\n",
      "        p2 = y2_count / n\n",
      "        \n",
      "        # Calculating GINI \n",
      "        gini = 1 - (p1 ** 2 + p2 ** 2)\n",
      "        \n",
      "        # Returning the gini impurity\n",
      "        return gini\n",
      "\n"
     ]
    }
   ],
   "source": [
    "print(inspect.getsource(Node.GINI_impurity))"
   ]
  },
  {
   "cell_type": "code",
   "execution_count": 22,
   "metadata": {},
   "outputs": [],
   "source": [
    "# Simulating some data\n",
    "n = 1000\n",
    "\n",
    "shares_y1 = [\n",
    "    0, \n",
    "    0.1,\n",
    "    0.2,\n",
    "    0.3,\n",
    "    0.4,\n",
    "    0.5, \n",
    "    0.6,\n",
    "    0.7,\n",
    "    0.8,\n",
    "    0.9,\n",
    "    1\n",
    "] \n",
    "\n",
    "y1_counts = [x * n for x in shares_y1]\n",
    "y2_counts = [n - x for x in y1_counts]\n",
    "\n",
    "y = list(zip(y1_counts, y2_counts))"
   ]
  },
  {
   "cell_type": "code",
   "execution_count": 23,
   "metadata": {},
   "outputs": [
    {
     "data": {
      "text/plain": [
       "[(0, 1000),\n",
       " (100.0, 900.0),\n",
       " (200.0, 800.0),\n",
       " (300.0, 700.0),\n",
       " (400.0, 600.0),\n",
       " (500.0, 500.0),\n",
       " (600.0, 400.0),\n",
       " (700.0, 300.0),\n",
       " (800.0, 200.0),\n",
       " (900.0, 100.0),\n",
       " (1000, 0)]"
      ]
     },
     "execution_count": 23,
     "metadata": {},
     "output_type": "execute_result"
    }
   ],
   "source": [
    "y"
   ]
  },
  {
   "cell_type": "code",
   "execution_count": 24,
   "metadata": {},
   "outputs": [],
   "source": [
    "# Getting the GINI impurities for such data\n",
    "ginis = [Node.GINI_impurity(x[0], x[1]) for x in y]"
   ]
  },
  {
   "cell_type": "code",
   "execution_count": 25,
   "metadata": {},
   "outputs": [
    {
     "data": {
      "image/png": "[encoded data removed]",
      "text/plain": [
       "<Figure size 432x288 with 1 Axes>"
      ]
     },
     "metadata": {
      "needs_background": "light"
     },
     "output_type": "display_data"
    }
   ],
   "source": [
    "plt.plot(shares_y1, ginis, '-o')\n",
    "plt.xlabel(\"Share of first class in the whole dataset\")\n",
    "plt.ylabel(\"GINI impurity\")\n",
    "plt.show()"
   ]
  },
  {
   "cell_type": "markdown",
   "metadata": {},
   "source": [
    "The above graph shows a very important relationship. The upper bound of the GINI impurity index is 0.5. It occurs when there is an equal number of observations of each class in the dataset. This is the **worst** case in terms of GINI impurity.\n",
    "\n",
    "At the edges of graph, we get that impurity is 0. This occurs when there is only one class in the data. This is the **best** situation. "
   ]
  },
  {
   "cell_type": "markdown",
   "metadata": {},
   "source": [
    "# GINI impurity of a split "
   ]
  },
  {
   "cell_type": "markdown",
   "metadata": {},
   "source": [
    "Going back to the example with the heart dataset, we have two datasets resulting from the chosen split. Each of the datasets have different GINI impurity indexes. "
   ]
  },
  {
   "cell_type": "code",
   "execution_count": 26,
   "metadata": {},
   "outputs": [],
   "source": [
    "left_counts = left.groupby(\"diagnosis\").size().values.tolist()\n",
    "right_counts = right.groupby(\"diagnosis\").size().values.tolist()\n",
    "\n",
    "gini_left = Node.GINI_impurity(left_counts[0], left_counts[1])\n",
    "gini_right = Node.GINI_impurity(right_counts[0], right_counts[1])"
   ]
  },
  {
   "cell_type": "code",
   "execution_count": 27,
   "metadata": {},
   "outputs": [
    {
     "name": "stdout",
     "output_type": "stream",
     "text": [
      "Gini impurity of the left node: 0.1284185493460166\n",
      "Gini impurity of the right node: 0.25404885239859953\n"
     ]
    },
    {
     "data": {
      "text/plain": [
       "'\"\\ngini_left = Node.GINI_impurity(y0_left, y1_left)\\ngini_right =Node.GINI_impurity(y0_right, y1_right)\\n# Getting the obs count from the left and the right data splits\\n\\nn_left = y0_left + y1_left\\nn_right = y0_right + y1_right\\n'"
      ]
     },
     "execution_count": 27,
     "metadata": {},
     "output_type": "execute_result"
    }
   ],
   "source": [
    "print(f\"Gini impurity of the left node: {gini_left}\")\n",
    "print(f\"Gini impurity of the right node: {gini_right}\")\n",
    "\"\"\"\"\n",
    "gini_left = Node.GINI_impurity(y0_left, y1_left)\n",
    "gini_right =Node.GINI_impurity(y0_right, y1_right)\n",
    "# Getting the obs count from the left and the right data splits\n",
    "\n",
    "n_left = y0_left + y1_left\n",
    "n_right = y0_right + y1_right\n",
    "\"\"\""
   ]
  },
  {
   "cell_type": "markdown",
   "metadata": {},
   "source": [
    "The final GINI impurity index is calculated using the weighted average based on the observation sizes in each of the datasets."
   ]
  },
  {
   "cell_type": "code",
   "execution_count": 28,
   "metadata": {},
   "outputs": [],
   "source": [
    "w1 = left.shape[0]/ (left.shape[0] + right.shape[0]) \n",
    "w2 = right.shape[0] / (left.shape[0] + right.shape[0]) "
   ]
  },
  {
   "cell_type": "code",
   "execution_count": 29,
   "metadata": {},
   "outputs": [],
   "source": [
    "gini_final = w1 * gini_left + w2 * gini_right"
   ]
  },
  {
   "cell_type": "code",
   "execution_count": 30,
   "metadata": {},
   "outputs": [
    {
     "name": "stdout",
     "output_type": "stream",
     "text": [
      "Final gini impurity: 0.1772134473681973\n"
     ]
    }
   ],
   "source": [
    "print(f\"Final gini impurity: {gini_final}\")"
   ]
  },
  {
   "cell_type": "markdown",
   "metadata": {},
   "source": [
    "# GINI gain"
   ]
  },
  {
   "cell_type": "markdown",
   "metadata": {},
   "source": [
    "The last metric used in deciding where to split the data is the GINI gain metric. Its calculated by the difference of non splited GINI of the dataset and the GINI of the selected split. "
   ]
  },
  {
   "cell_type": "markdown",
   "metadata": {},
   "source": [
    "$$GINI gain = \\Delta Gini = Gini_{parent} - (Gini_{left} \\dfrac{n_{left}}{n_{right} + n_{left}} + Gini_{right} \\dfrac{n_{right}}{n_{right} + n_{left}} )$$"
   ]
  },
  {
   "cell_type": "code",
   "execution_count": 31,
   "metadata": {},
   "outputs": [],
   "source": [
    "def GINI_impurity_df(df:pd.DataFrame, target):\n",
    "    \"\"\"\n",
    "    Function to calculate the resulting GINI impurity of a split\n",
    "    \"\"\"\n",
    "    # Getting the counts and ginis\n",
    "    counts = df.groupby(target).size().values.tolist()\n",
    "\n",
    "    gini = Node.GINI_impurity(counts[0], counts[1])\n",
    "    \n",
    "    return gini"
   ]
  },
  {
   "cell_type": "code",
   "execution_count": 32,
   "metadata": {},
   "outputs": [],
   "source": [
    "gini_orig = GINI_impurity_df(dd, 'diagnosis')"
   ]
  },
  {
   "cell_type": "code",
   "execution_count": 33,
   "metadata": {},
   "outputs": [
    {
     "name": "stdout",
     "output_type": "stream",
     "text": [
      "Gini non-splited: 0.4675300607546925\n",
      "Gini with the proposed split: 0.1772134473681973\n",
      "Gini gain: 0.29031661338649517\n"
     ]
    }
   ],
   "source": [
    "print(f\"Gini non-splited: {gini_orig}\")\n",
    "print(f\"Gini with the proposed split: {gini_final}\")\n",
    "print(f\"Gini gain: {gini_orig - gini_final}\")"
   ]
  },
  {
   "cell_type": "markdown",
   "metadata": {},
   "source": [
    "At each split decision, we chose that split that has the highest GINI gain. If the GINI gain is non positive, we do not perform the split."
   ]
  },
  {
   "cell_type": "markdown",
   "metadata": {},
   "source": [
    "# Spliting on numeric variables \n"
   ]
  },
  {
   "cell_type": "markdown",
   "metadata": {},
   "source": [
    "When deciding where to split a numeric feature, we first sort all the values, get the means between neighbouring values and calculate the GINI gains with each of the means.\n",
    "\n",
    "The full code to get the best split:"
   ]
  },
  {
   "cell_type": "code",
   "execution_count": 34,
   "metadata": {},
   "outputs": [
    {
     "name": "stdout",
     "output_type": "stream",
     "text": [
      "    @staticmethod\n",
      "    def ma(x: np.array, window: int) -> np.array:\n",
      "        \"\"\"\n",
      "        Calculates the moving average of the given list. \n",
      "        \"\"\"\n",
      "        return np.convolve(x, np.ones(window), 'valid') / window\n",
      "\n"
     ]
    }
   ],
   "source": [
    "print(inspect.getsource(Node.ma))"
   ]
  },
  {
   "cell_type": "code",
   "execution_count": 35,
   "metadata": {},
   "outputs": [
    {
     "name": "stdout",
     "output_type": "stream",
     "text": [
      "    def best_split(self) -> tuple:\n",
      "        \"\"\"\n",
      "        Given the X features and Y targets calculates the best split \n",
      "        for a decision tree\n",
      "        \"\"\"\n",
      "        # Creating a dataset for spliting\n",
      "        df = self.X.copy()\n",
      "        df['Y'] = self.Y\n",
      "\n",
      "        # Getting the GINI impurity for the base input \n",
      "        GINI_base = self.get_GINI()\n",
      "\n",
      "        # Finding which split yields the best GINI gain \n",
      "        max_gain = 0\n",
      "\n",
      "        # Default best feature and split\n",
      "        best_feature = None\n",
      "        best_value = None\n",
      "\n",
      "        for feature in self.features:\n",
      "            # Droping missing values\n",
      "            Xdf = df.dropna().sort_values(feature)\n",
      "\n",
      "            # Sorting the values and getting the rolling average\n",
      "            xmeans = self.ma(Xdf[feature].unique(), 2)\n",
      "\n",
      "            for value in xmeans:\n",
      "                # Spliting the dataset \n",
      "                left_counts = Counter(Xdf[Xdf[feature]<value]['Y'])\n",
      "                right_counts = Counter(Xdf[Xdf[feature]>=value]['Y'])\n",
      "\n",
      "                # Getting the Y distribution from the dicts\n",
      "                y0_left, y1_left, y0_right, y1_right = left_counts.get(0, 0), left_counts.get(1, 0), right_counts.get(0, 0), right_counts.get(1, 0)\n",
      "\n",
      "                # Getting the left and right gini impurities\n",
      "                gini_left = self.GINI_impurity(y0_left, y1_left)\n",
      "                gini_right = self.GINI_impurity(y0_right, y1_right)\n",
      "\n",
      "                # Getting the obs count from the left and the right data splits\n",
      "                n_left = y0_left + y1_left\n",
      "                n_right = y0_right + y1_right\n",
      "\n",
      "                # Calculating the weights for each of the nodes\n",
      "                w_left = n_left / (n_left + n_right)\n",
      "                w_right = n_right / (n_left + n_right)\n",
      "\n",
      "                # Calculating the weighted GINI impurity\n",
      "                wGINI = w_left * gini_left + w_right * gini_right\n",
      "\n",
      "                # Calculating the GINI gain \n",
      "                GINIgain = GINI_base - wGINI\n",
      "\n",
      "                # Checking if this is the best split so far \n",
      "                if GINIgain > max_gain:\n",
      "                    best_feature = feature\n",
      "                    best_value = value \n",
      "\n",
      "                    # Setting the best gain to the current one \n",
      "                    max_gain = GINIgain\n",
      "\n",
      "        return (best_feature, best_value)\n",
      "\n"
     ]
    }
   ],
   "source": [
    "print(inspect.getsource(Node.best_split))"
   ]
  },
  {
   "cell_type": "markdown",
   "metadata": {},
   "source": [
    "# Growing the full tree"
   ]
  },
  {
   "cell_type": "code",
   "execution_count": 36,
   "metadata": {},
   "outputs": [],
   "source": [
    "# Dropping missing values\n",
    "dtree = d[['diagnosis', 'area_mean', 'area_worst']].dropna().copy()\n",
    "\n",
    "# Defining the X and Y matrices\n",
    "Y = dtree['diagnosis'].values\n",
    "X = dtree[['area_mean', 'area_worst']]\n",
    "# Saving the feature list \n",
    "features = list(X.columns)"
   ]
  },
  {
   "cell_type": "code",
   "execution_count": 37,
   "metadata": {},
   "outputs": [],
   "source": [
    "# Setting the available hyper parameters of a tree\n",
    "hp = {\n",
    "    'min_samples_split': 50,\n",
    "    'max_depth': 3\n",
    "    \n",
    "}"
   ]
  },
  {
   "cell_type": "code",
   "execution_count": 38,
   "metadata": {},
   "outputs": [
    {
     "name": "stdout",
     "output_type": "stream",
     "text": [
      "Root\n",
      "   | GINI impurity of the node: 0.47\n",
      "   | Class distribution in the node: {1: 212, 0: 357}\n",
      "   | Predicted class: 0\n",
      "|-------- Split rule: area_worst <= 884.55\n",
      "           | GINI impurity of the node: 0.17\n",
      "           | Class distribution in the node: {1: 37, 0: 349}\n",
      "           | Predicted class: 0\n",
      "|---------------- Split rule: area_worst <= 739.2\n",
      "                   | GINI impurity of the node: 0.07\n",
      "                   | Class distribution in the node: {1: 11, 0: 308}\n",
      "                   | Predicted class: 0\n",
      "|------------------------ Split rule: area_mean <= 677.95\n",
      "                           | GINI impurity of the node: 0.06\n",
      "                           | Class distribution in the node: {1: 10, 0: 308}\n",
      "                           | Predicted class: 0\n",
      "|------------------------ Split rule: area_mean > 677.95\n",
      "                           | GINI impurity of the node: 0.0\n",
      "                           | Class distribution in the node: {1: 1}\n",
      "                           | Predicted class: 1\n",
      "|---------------- Split rule: area_worst > 739.2\n",
      "                   | GINI impurity of the node: 0.47\n",
      "                   | Class distribution in the node: {1: 26, 0: 41}\n",
      "                   | Predicted class: 0\n",
      "|------------------------ Split rule: area_mean <= 610.95\n",
      "                           | GINI impurity of the node: 0.34\n",
      "                           | Class distribution in the node: {1: 18, 0: 5}\n",
      "                           | Predicted class: 1\n",
      "|------------------------ Split rule: area_mean > 610.95\n",
      "                           | GINI impurity of the node: 0.3\n",
      "                           | Class distribution in the node: {1: 8, 0: 36}\n",
      "                           | Predicted class: 0\n",
      "|-------- Split rule: area_worst > 884.55\n",
      "           | GINI impurity of the node: 0.08\n",
      "           | Class distribution in the node: {1: 175, 0: 8}\n",
      "           | Predicted class: 1\n",
      "|---------------- Split rule: area_worst <= 953.7\n",
      "                   | GINI impurity of the node: 0.39\n",
      "                   | Class distribution in the node: {1: 14, 0: 5}\n",
      "                   | Predicted class: 1\n",
      "|---------------- Split rule: area_worst > 953.7\n",
      "                   | GINI impurity of the node: 0.04\n",
      "                   | Class distribution in the node: {1: 161, 0: 3}\n",
      "                   | Predicted class: 1\n",
      "|------------------------ Split rule: area_worst <= 1214.0\n",
      "                           | GINI impurity of the node: 0.15\n",
      "                           | Class distribution in the node: {1: 33, 0: 3}\n",
      "                           | Predicted class: 1\n",
      "|------------------------ Split rule: area_worst > 1214.0\n",
      "                           | GINI impurity of the node: 0.0\n",
      "                           | Class distribution in the node: {1: 128}\n",
      "                           | Predicted class: 1\n"
     ]
    }
   ],
   "source": [
    "# Initiating the Node\n",
    "root = Node(Y, X, **hp)\n",
    "# Getting teh best split\n",
    "root.grow_tree()\n",
    "\n",
    "\n",
    "# Printing the tree information \n",
    "root.print_tree()"
   ]
  },
  {
   "cell_type": "markdown",
   "metadata": {},
   "source": [
    "As it turns out, the best first split is the chol feature at value 300.  "
   ]
  },
  {
   "cell_type": "code",
   "execution_count": 39,
   "metadata": {},
   "outputs": [
    {
     "data": {
      "image/png": "[encoded data removed]",
      "text/plain": [
       "<Figure size 720x720 with 1 Axes>"
      ]
     },
     "metadata": {
      "needs_background": "light"
     },
     "output_type": "display_data"
    }
   ],
   "source": [
    "# Define the split value \n",
    "area_worst = 0.1\n",
    "\n",
    "# Ploting the original plot\n",
    "plt.figure(figsize=(10, 10))\n",
    "sns.scatterplot(y='area_mean', x='area_worst', data=dd, hue='diagnosis')\n",
    "plt.grid()\n",
    "\n",
    "# Adding the split line\n",
    "plt.axhline(657, label='Best split', color='green')\n",
    "plt.legend()\n",
    "plt.show()"
   ]
  },
  {
   "cell_type": "markdown",
   "metadata": {},
   "source": [
    "# Scikit-learn comparison "
   ]
  },
  {
   "cell_type": "markdown",
   "metadata": {},
   "source": [
    "The go-to machine learning framework with python is the scikit-learn package https://scikit-learn.org/stable/index.html. \n",
    "    \n",
    "The package has a decision tree creation implementation: https://scikit-learn.org/stable/modules/generated/sklearn.tree.DecisionTreeClassifier.html?highlight=decisiontree#sklearn.tree.DecisionTreeClassifier"
   ]
  },
  {
   "cell_type": "markdown",
   "metadata": {},
   "source": [
    "Lets see how it compares to the custom tree creation that I have written."
   ]
  },
  {
   "cell_type": "code",
   "execution_count": 40,
   "metadata": {},
   "outputs": [],
   "source": [
    "custom_tree_start = time.time()\n",
    "\n",
    "# Initiating the Node\n",
    "root = Node(Y, X, **hp)\n",
    "\n",
    "# Getting teh best split\n",
    "root.grow_tree()\n",
    "\n",
    "custom_tree_time = time.time() - custom_tree_start"
   ]
  },
  {
   "cell_type": "code",
   "execution_count": 41,
   "metadata": {},
   "outputs": [],
   "source": [
    "scikit_tree_start = time.time()\n",
    "\n",
    "# Using the ML package \n",
    "clf = DecisionTreeClassifier(**hp)\n",
    "clf.fit(X, Y)\n",
    "\n",
    "scikit_tree_time = time.time() - scikit_tree_start"
   ]
  },
  {
   "cell_type": "code",
   "execution_count": 42,
   "metadata": {},
   "outputs": [
    {
     "name": "stdout",
     "output_type": "stream",
     "text": [
      "Custom tree growing time: 2.854689121246338s\n",
      "Scikit tree growing time: 0.003000497817993164s\n"
     ]
    }
   ],
   "source": [
    "print(f\"Custom tree growing time: {custom_tree_time}s\")\n",
    "print(f\"Scikit tree growing time: {scikit_tree_time}s\")"
   ]
  },
  {
   "cell_type": "markdown",
   "metadata": {},
   "source": [
    "As can be expected, the highly optimized scikit-learn solution works faster."
   ]
  },
  {
   "cell_type": "markdown",
   "metadata": {},
   "source": [
    "Both methods have a visualization: "
   ]
  },
  {
   "cell_type": "code",
   "execution_count": 43,
   "metadata": {
    "scrolled": false
   },
   "outputs": [
    {
     "name": "stdout",
     "output_type": "stream",
     "text": [
      "Root\n",
      "   | GINI impurity of the node: 0.47\n",
      "   | Class distribution in the node: {1: 212, 0: 357}\n",
      "   | Predicted class: 0\n",
      "|-------- Split rule: area_worst <= 884.55\n",
      "           | GINI impurity of the node: 0.17\n",
      "           | Class distribution in the node: {1: 37, 0: 349}\n",
      "           | Predicted class: 0\n",
      "|---------------- Split rule: area_worst <= 739.2\n",
      "                   | GINI impurity of the node: 0.07\n",
      "                   | Class distribution in the node: {1: 11, 0: 308}\n",
      "                   | Predicted class: 0\n",
      "|------------------------ Split rule: area_mean <= 677.95\n",
      "                           | GINI impurity of the node: 0.06\n",
      "                           | Class distribution in the node: {1: 10, 0: 308}\n",
      "                           | Predicted class: 0\n",
      "|------------------------ Split rule: area_mean > 677.95\n",
      "                           | GINI impurity of the node: 0.0\n",
      "                           | Class distribution in the node: {1: 1}\n",
      "                           | Predicted class: 1\n",
      "|---------------- Split rule: area_worst > 739.2\n",
      "                   | GINI impurity of the node: 0.47\n",
      "                   | Class distribution in the node: {1: 26, 0: 41}\n",
      "                   | Predicted class: 0\n",
      "|------------------------ Split rule: area_mean <= 610.95\n",
      "                           | GINI impurity of the node: 0.34\n",
      "                           | Class distribution in the node: {1: 18, 0: 5}\n",
      "                           | Predicted class: 1\n",
      "|------------------------ Split rule: area_mean > 610.95\n",
      "                           | GINI impurity of the node: 0.3\n",
      "                           | Class distribution in the node: {1: 8, 0: 36}\n",
      "                           | Predicted class: 0\n",
      "|-------- Split rule: area_worst > 884.55\n",
      "           | GINI impurity of the node: 0.08\n",
      "           | Class distribution in the node: {1: 175, 0: 8}\n",
      "           | Predicted class: 1\n",
      "|---------------- Split rule: area_worst <= 953.7\n",
      "                   | GINI impurity of the node: 0.39\n",
      "                   | Class distribution in the node: {1: 14, 0: 5}\n",
      "                   | Predicted class: 1\n",
      "|---------------- Split rule: area_worst > 953.7\n",
      "                   | GINI impurity of the node: 0.04\n",
      "                   | Class distribution in the node: {1: 161, 0: 3}\n",
      "                   | Predicted class: 1\n",
      "|------------------------ Split rule: area_worst <= 1214.0\n",
      "                           | GINI impurity of the node: 0.15\n",
      "                           | Class distribution in the node: {1: 33, 0: 3}\n",
      "                           | Predicted class: 1\n",
      "|------------------------ Split rule: area_worst > 1214.0\n",
      "                           | GINI impurity of the node: 0.0\n",
      "                           | Class distribution in the node: {1: 128}\n",
      "                           | Predicted class: 1\n"
     ]
    }
   ],
   "source": [
    "root.print_tree()"
   ]
  },
  {
   "cell_type": "code",
   "execution_count": 44,
   "metadata": {},
   "outputs": [
    {
     "name": "stdout",
     "output_type": "stream",
     "text": [
      "|--- thalach <= 884.55\n",
      "|   |--- thalach <= 739.20\n",
      "|   |   |--- oldpeak <= 677.95\n",
      "|   |   |   |--- class: 0\n",
      "|   |   |--- oldpeak >  677.95\n",
      "|   |   |   |--- class: 1\n",
      "|   |--- thalach >  739.20\n",
      "|   |   |--- oldpeak <= 610.95\n",
      "|   |   |   |--- class: 1\n",
      "|   |   |--- oldpeak >  610.95\n",
      "|   |   |   |--- class: 0\n",
      "|--- thalach >  884.55\n",
      "|   |--- thalach <= 953.70\n",
      "|   |   |--- class: 1\n",
      "|   |--- thalach >  953.70\n",
      "|   |   |--- thalach <= 1214.00\n",
      "|   |   |   |--- class: 1\n",
      "|   |   |--- thalach >  1214.00\n",
      "|   |   |   |--- class: 1\n",
      "\n"
     ]
    }
   ],
   "source": [
    "print(export_text(clf, feature_names=['oldpeak', 'thalach']))"
   ]
  },
  {
   "cell_type": "markdown",
   "metadata": {},
   "source": [
    "# Predictions"
   ]
  },
  {
   "cell_type": "code",
   "execution_count": 45,
   "metadata": {},
   "outputs": [
    {
     "data": {
      "text/plain": [
       "True"
      ]
     },
     "execution_count": 45,
     "metadata": {},
     "output_type": "execute_result"
    }
   ],
   "source": [
    "# Result frame\n",
    "results = X.copy()\n",
    "\n",
    "# Predictions\n",
    "results['scikit_learn'] = clf.predict(X[features])\n",
    "results['custom_yhat'] = root.predict(X[features])\n",
    "\n",
    "# Asserting that every prediction is the same \n",
    "np.all(results['scikit_learn'] == results['custom_yhat'])"
   ]
  },
  {
   "cell_type": "code",
   "execution_count": 46,
   "metadata": {},
   "outputs": [
    {
     "data": {
      "text/plain": [
       "1.0"
      ]
     },
     "execution_count": 46,
     "metadata": {},
     "output_type": "execute_result"
    }
   ],
   "source": [
    "accuracy_score(results['custom_yhat'], results['scikit_learn'])"
   ]
  },
  {
   "cell_type": "markdown",
   "metadata": {},
   "source": [
    "# Implementation"
   ]
  },
  {
   "cell_type": "code",
   "execution_count": 47,
   "metadata": {},
   "outputs": [],
   "source": [
    "custom_tree_start = time.time()\n",
    "\n",
    "# Initiating the Node\n",
    "root = NodeRegression(Y, X, **hp)\n",
    "\n",
    "# Getting teh best split\n",
    "root.grow_tree()\n",
    "\n",
    "custom_tree_time = time.time() - custom_tree_start"
   ]
  },
  {
   "cell_type": "code",
   "execution_count": 48,
   "metadata": {},
   "outputs": [],
   "source": [
    "scikit_tree_start = time.time()\n",
    "\n",
    "# Using the ML package \n",
    "clf = DecisionTreeRegressor(**hp)\n",
    "clf.fit(X, Y)\n",
    "\n",
    "scikit_tree_time = time.time() - scikit_tree_start"
   ]
  },
  {
   "cell_type": "code",
   "execution_count": 49,
   "metadata": {},
   "outputs": [
    {
     "name": "stdout",
     "output_type": "stream",
     "text": [
      "Custom tree growing time: 2.7588741779327393s\n",
      "Scikit tree growing time: 0.001999378204345703s\n"
     ]
    }
   ],
   "source": [
    "print(f\"Custom tree growing time: {custom_tree_time}s\")\n",
    "print(f\"Scikit tree growing time: {scikit_tree_time}s\")"
   ]
  },
  {
   "cell_type": "code",
   "execution_count": 50,
   "metadata": {},
   "outputs": [
    {
     "name": "stdout",
     "output_type": "stream",
     "text": [
      "Root\n",
      "   | MSE of the node: 0.23\n",
      "   | Count of observations in node: 569\n",
      "   | Prediction of node: 0.373\n",
      "|-------- Split rule: area_worst <= 884.55\n",
      "           | MSE of the node: 0.09\n",
      "           | Count of observations in node: 386\n",
      "           | Prediction of node: 0.096\n",
      "|---------------- Split rule: area_worst <= 739.2\n",
      "                   | MSE of the node: 0.03\n",
      "                   | Count of observations in node: 319\n",
      "                   | Prediction of node: 0.034\n",
      "|------------------------ Split rule: area_mean <= 677.95\n",
      "                           | MSE of the node: 0.03\n",
      "                           | Count of observations in node: 318\n",
      "                           | Prediction of node: 0.031\n",
      "|------------------------ Split rule: area_mean > 677.95\n",
      "                           | MSE of the node: 0.0\n",
      "                           | Count of observations in node: 1\n",
      "                           | Prediction of node: 1.0\n",
      "|---------------- Split rule: area_worst > 739.2\n",
      "                   | MSE of the node: 0.24\n",
      "                   | Count of observations in node: 67\n",
      "                   | Prediction of node: 0.388\n",
      "|------------------------ Split rule: area_mean <= 610.95\n",
      "                           | MSE of the node: 0.17\n",
      "                           | Count of observations in node: 23\n",
      "                           | Prediction of node: 0.783\n",
      "|------------------------ Split rule: area_mean > 610.95\n",
      "                           | MSE of the node: 0.15\n",
      "                           | Count of observations in node: 44\n",
      "                           | Prediction of node: 0.182\n",
      "|-------- Split rule: area_worst > 884.55\n",
      "           | MSE of the node: 0.04\n",
      "           | Count of observations in node: 183\n",
      "           | Prediction of node: 0.956\n",
      "|---------------- Split rule: area_worst <= 953.7\n",
      "                   | MSE of the node: 0.19\n",
      "                   | Count of observations in node: 19\n",
      "                   | Prediction of node: 0.737\n",
      "|---------------- Split rule: area_worst > 953.7\n",
      "                   | MSE of the node: 0.02\n",
      "                   | Count of observations in node: 164\n",
      "                   | Prediction of node: 0.982\n",
      "|------------------------ Split rule: area_worst <= 1214.0\n",
      "                           | MSE of the node: 0.08\n",
      "                           | Count of observations in node: 36\n",
      "                           | Prediction of node: 0.917\n",
      "|------------------------ Split rule: area_worst > 1214.0\n",
      "                           | MSE of the node: 0.0\n",
      "                           | Count of observations in node: 128\n",
      "                           | Prediction of node: 1.0\n"
     ]
    }
   ],
   "source": [
    "root.print_tree()"
   ]
  },
  {
   "cell_type": "code",
   "execution_count": 51,
   "metadata": {},
   "outputs": [
    {
     "name": "stdout",
     "output_type": "stream",
     "text": [
      "|--- area_worst <= 884.55\n",
      "|   |--- area_worst <= 739.20\n",
      "|   |   |--- area_mean <= 677.95\n",
      "|   |   |   |--- value: [0.03]\n",
      "|   |   |--- area_mean >  677.95\n",
      "|   |   |   |--- value: [1.00]\n",
      "|   |--- area_worst >  739.20\n",
      "|   |   |--- area_mean <= 610.95\n",
      "|   |   |   |--- value: [0.78]\n",
      "|   |   |--- area_mean >  610.95\n",
      "|   |   |   |--- value: [0.18]\n",
      "|--- area_worst >  884.55\n",
      "|   |--- area_worst <= 953.70\n",
      "|   |   |--- value: [0.74]\n",
      "|   |--- area_worst >  953.70\n",
      "|   |   |--- area_worst <= 1214.00\n",
      "|   |   |   |--- value: [0.92]\n",
      "|   |   |--- area_worst >  1214.00\n",
      "|   |   |   |--- value: [1.00]\n",
      "\n"
     ]
    }
   ],
   "source": [
    "print(export_text(clf, feature_names=features))"
   ]
  },
  {
   "cell_type": "code",
   "execution_count": 52,
   "metadata": {},
   "outputs": [],
   "source": [
    "target = d['diagnosis']\n",
    "d1 = d.copy()\n",
    "d1 = d1.drop('diagnosis', axis =1)"
   ]
  },
  {
   "cell_type": "code",
   "execution_count": 62,
   "metadata": {},
   "outputs": [],
   "source": [
    "X = d1"
   ]
  },
  {
   "cell_type": "code",
   "execution_count": 66,
   "metadata": {},
   "outputs": [
    {
     "data": {
      "text/plain": [
       "array([1, 1, 1, 1, 1, 1, 1, 1, 1, 1, 1, 1, 1, 1, 1, 1, 1, 1, 1, 0, 0, 0,\n",
       "       1, 1, 1, 1, 1, 1, 1, 1, 1, 1, 1, 1, 1, 1, 1, 0, 1, 1, 1, 1, 1, 1,\n",
       "       1, 1, 0, 1, 0, 0, 0, 0, 0, 1, 1, 0, 1, 1, 0, 0, 0, 0, 1, 0, 1, 1,\n",
       "       0, 0, 0, 0, 1, 0, 1, 1, 0, 1, 0, 1, 1, 0, 0, 0, 1, 1, 0, 1, 1, 1,\n",
       "       0, 0, 0, 1, 0, 0, 1, 1, 0, 0, 0, 1, 1, 0, 0, 0, 0, 1, 0, 0, 1, 0,\n",
       "       0, 0, 0, 0, 0, 0, 0, 1, 1, 1, 0, 1, 1, 0, 0, 0, 1, 1, 0, 1, 0, 1,\n",
       "       1, 0, 1, 1, 0, 0, 1, 0, 0, 1, 0, 0, 0, 0, 1, 0, 0, 0, 0, 0, 0, 0,\n",
       "       0, 0, 1, 0, 0, 0, 0, 1, 1, 0, 1, 0, 0, 1, 1, 0, 0, 1, 1, 0, 0, 0,\n",
       "       0, 1, 0, 0, 1, 1, 1, 0, 1, 0, 1, 0, 0, 0, 1, 0, 0, 1, 1, 0, 1, 1,\n",
       "       1, 1, 0, 1, 1, 1, 0, 1, 0, 1, 0, 0, 1, 0, 1, 1, 1, 1, 0, 0, 1, 1,\n",
       "       0, 0, 0, 1, 0, 0, 0, 0, 0, 1, 1, 0, 0, 1, 0, 0, 1, 1, 0, 1, 0, 0,\n",
       "       0, 0, 1, 0, 0, 0, 0, 0, 1, 0, 1, 1, 1, 1, 1, 1, 1, 1, 1, 1, 1, 1,\n",
       "       1, 1, 0, 0, 0, 0, 0, 0, 1, 0, 1, 0, 0, 1, 0, 0, 1, 0, 1, 1, 0, 0,\n",
       "       0, 0, 0, 0, 0, 0, 0, 0, 0, 0, 0, 1, 0, 0, 1, 0, 1, 0, 0, 0, 0, 0,\n",
       "       0, 0, 0, 0, 0, 0, 0, 0, 0, 1, 0, 0, 0, 1, 0, 1, 0, 0, 0, 0, 1, 1,\n",
       "       1, 0, 0, 0, 0, 1, 0, 1, 0, 1, 0, 0, 0, 1, 0, 0, 0, 0, 0, 0, 0, 1,\n",
       "       1, 1, 0, 0, 0, 0, 0, 0, 0, 0, 0, 0, 0, 1, 1, 0, 1, 1, 1, 0, 1, 1,\n",
       "       0, 0, 0, 0, 0, 1, 0, 0, 0, 0, 0, 1, 0, 0, 0, 1, 0, 0, 1, 1, 0, 0,\n",
       "       0, 0, 0, 0, 1, 0, 0, 0, 0, 0, 0, 0, 1, 0, 0, 0, 0, 0, 1, 0, 0, 1,\n",
       "       0, 0, 0, 0, 0, 0, 0, 0, 0, 0, 0, 0, 1, 0, 1, 1, 0, 1, 0, 0, 0, 0,\n",
       "       0, 1, 0, 0, 1, 0, 1, 0, 0, 1, 0, 1, 0, 0, 0, 0, 0, 0, 0, 0, 1, 1,\n",
       "       0, 0, 0, 0, 0, 0, 1, 0, 0, 0, 0, 0, 0, 0, 0, 0, 0, 1, 0, 0, 0, 0,\n",
       "       0, 0, 0, 1, 0, 1, 0, 0, 1, 0, 0, 0, 0, 0, 1, 1, 0, 1, 0, 1, 0, 0,\n",
       "       0, 0, 0, 1, 0, 0, 1, 0, 1, 0, 1, 1, 0, 0, 0, 1, 0, 0, 0, 0, 0, 0,\n",
       "       0, 0, 0, 0, 0, 1, 0, 1, 1, 0, 0, 0, 0, 0, 0, 0, 0, 0, 0, 0, 0, 0,\n",
       "       0, 0, 0, 0, 0, 0, 0, 0, 0, 0, 0, 0, 1, 1, 1, 1, 1, 1, 0],\n",
       "      dtype=int64)"
      ]
     },
     "execution_count": 66,
     "metadata": {},
     "output_type": "execute_result"
    }
   ],
   "source": [
    "le = LabelEncoder()\n",
    "target = le.fit_transform(target)\n",
    "target"
   ]
  },
  {
   "cell_type": "code",
   "execution_count": 67,
   "metadata": {},
   "outputs": [],
   "source": [
    "y = target"
   ]
  },
  {
   "cell_type": "code",
   "execution_count": 69,
   "metadata": {},
   "outputs": [
    {
     "name": "stdout",
     "output_type": "stream",
     "text": [
      "Training split input-  (426, 31)\n",
      "Testing split input-  (143, 31)\n"
     ]
    }
   ],
   "source": [
    "X_train, X_test, y_train, y_test = train_test_split(X , y, test_size = 0.25, random_state = 42)\n",
    "print(\"Training split input- \", X_train.shape)\n",
    "print(\"Testing split input- \", X_test.shape)"
   ]
  },
  {
   "cell_type": "code",
   "execution_count": 70,
   "metadata": {},
   "outputs": [
    {
     "name": "stdout",
     "output_type": "stream",
     "text": [
      "Decision Tree Classifier Created\n"
     ]
    }
   ],
   "source": [
    "dtree=DecisionTreeClassifier()\n",
    "dtree.fit(X_train,y_train)\n",
    "print('Decision Tree Classifier Created')\n",
    "y_pred = dtree.predict(X_test)"
   ]
  },
  {
   "cell_type": "code",
   "execution_count": 71,
   "metadata": {},
   "outputs": [
    {
     "name": "stdout",
     "output_type": "stream",
     "text": [
      "-----------------\n",
      "[[83  6]\n",
      " [ 3 51]]\n",
      "83\n",
      "6\n",
      "3\n",
      "51\n",
      "Accuracy of the KNN is :0.9370629370629371\n",
      "recall of the KNN is : 0.9651162790697675\n",
      "precision of the KNNis :0.9325842696629213\n",
      "F_1 Score of the KNN is :0.9485714285714285\n",
      "AUC\n",
      "False_Positive_rate of the KNN is : 0.10526315789473684\n",
      "True_Negitive_Rate  of the KNN is: 0.8947368421052632\n",
      "True positivetity rate of the KNN is : 0.9651162790697675\n",
      "Misclassification Rate of the KNN is : 0.06293706293706294\n",
      "Prevalence of the KNN is : 83.02097902097903\n",
      "143\n"
     ]
    }
   ],
   "source": [
    "def get_confusion_matrix(l1, l2):\n",
    "\n",
    "    assert len(l1)==len(l2), \"Two lists have different size.\"\n",
    "\n",
    "    K = len(np.unique(l1))\n",
    "\n",
    "    # create label-index value\n",
    "    label_index = dict(zip(np.unique(l1), np.arange(K)))\n",
    "\n",
    "    result = np.zeros((K, K))\n",
    "    for i in range(len(l1)):\n",
    "        result [label_index[l1[i]]][label_index[l2[i]]] += 1\n",
    "    \n",
    "\n",
    "    return result.astype(int)\n",
    "x=get_confusion_matrix(y_test,y_pred)\n",
    "print('-----------------')\n",
    "print(x)\n",
    "TP=x[0][0]\n",
    "TP=int(TP)\n",
    "FP=x[0][1]\n",
    "FP=int(FP)\n",
    "FN=x[1][0]\n",
    "FN=int(FN)\n",
    "TN=x[1][1]\n",
    "TN=int(TN)\n",
    "print(TP)\n",
    "print(FP)\n",
    "print(FN)\n",
    "print(TN)\n",
    "xax=TP+TN+FN+FP\n",
    "Accuracy=(TP+TN)/(TP+TN+FN+FP)\n",
    "recall= TP/(TP+FN)  # True positivetity rate\n",
    "precision=TP/(TP+FP) #\n",
    "f_1= 2*(recall*precision)/(precision+recall)\n",
    "True_positivetity_rate= TP/(FN+TP)\n",
    "True_Negitive_Rate=TN/(TN+FP)\n",
    "False_Positive_rate= FP/(TN+FP)\n",
    "mis_rate=(FP+FN)/xax # Error Rate\n",
    "Prevalence=TP+FN/xax\n",
    "print(f'Accuracy of the DT is :{Accuracy}')\n",
    "print(f'recall of the DT is : {recall}')\n",
    "print(f'precision of the DTis :{precision}')\n",
    "print(f'F_1 Score of the DT is :{f_1}')\n",
    "print(\"AUC\")\n",
    "print(f'False_Positive_rate of the DT is : {False_Positive_rate}')\n",
    "print(f'True_Negitive_Rate  of the DT is: {True_Negitive_Rate}')\n",
    "print(f'True positivetity rate of the DT is : {True_positivetity_rate}')\n",
    "print(f'Misclassification Rate of the DT is : {mis_rate}')\n",
    "print(f'Prevalence of the DT is : {Prevalence}')\n",
    "print(xax)"
   ]
  },
  {
   "cell_type": "code",
   "execution_count": 72,
   "metadata": {},
   "outputs": [
    {
     "data": {
      "image/png": "[encoded data removed]",
      "text/plain": [
       "<Figure size 432x288 with 2 Axes>"
      ]
     },
     "metadata": {
      "needs_background": "light"
     },
     "output_type": "display_data"
    }
   ],
   "source": [
    "y=sns.heatmap(x ,annot=True)\n",
    "figure = y.get_figure()\n",
    "plt.show()\n",
    "figure.savefig(f'confusionmatrix of Decision.png')"
   ]
  },
  {
   "cell_type": "code",
   "execution_count": null,
   "metadata": {},
   "outputs": [],
   "source": []
  },
  {
   "cell_type": "code",
   "execution_count": null,
   "metadata": {},
   "outputs": [],
   "source": []
  }
 ],
 "metadata": {
  "kernelspec": {
   "display_name": "Python 3 (ipykernel)",
   "language": "python",
   "name": "python3"
  },
  "language_info": {
   "codemirror_mode": {
    "name": "ipython",
    "version": 3
   },
   "file_extension": ".py",
   "mimetype": "text/x-python",
   "name": "python",
   "nbconvert_exporter": "python",
   "pygments_lexer": "ipython3",
   "version": "3.9.7"
  }
 },
 "nbformat": 4,
 "nbformat_minor": 4
}
